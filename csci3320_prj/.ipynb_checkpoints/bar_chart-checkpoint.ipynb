{
 "cells": [
  {
   "cell_type": "code",
   "execution_count": 33,
   "metadata": {},
   "outputs": [
    {
     "name": "stderr",
     "output_type": "stream",
     "text": [
      "C:\\Users\\Tang Ying Kin\\Anaconda3\\lib\\site-packages\\ipykernel_launcher.py:67: DataConversionWarning: A column-vector y was passed when a 1d array was expected. Please change the shape of y to (n_samples,), for example using ravel().\n"
     ]
    },
    {
     "name": "stdout",
     "output_type": "stream",
     "text": [
      "['win_odds' 'declared_horse_weight' 'actual_weight' 'draw'\n",
      " 'recent_ave_rank' 'race_distance' 'jockey_ave_rank' 'trainer_ave_rank'] [ 0.23847391  0.21485732  0.15136236  0.11715526  0.1040632   0.08321744\n",
      "  0.06506882  0.02580168]\n"
     ]
    },
    {
     "data": {
      "image/png": "[encoded data removed]",
      "text/plain": [
       "<matplotlib.figure.Figure at 0x1b3403f75f8>"
      ]
     },
     "metadata": {},
     "output_type": "display_data"
    }
   ],
   "source": [
    "import os\n",
    "import csv\n",
    "import math\n",
    "import pandas as pd\n",
    "import numpy as np\n",
    "import matplotlib.pyplot as plt\n",
    "from sklearn.ensemble import RandomForestClassifier\n",
    "from sklearn.preprocessing import StandardScaler\n",
    "from matplotlib.ticker import MaxNLocator\n",
    "\n",
    "def get_list(df = [] , col_type = ''):\n",
    "    list_set = np.empty(0)\n",
    "    for index, row in df.iterrows():\n",
    "        #print(row[col_type])\n",
    "        if not row[col_type] in list_set:\n",
    "            list_set = np.append(list_set , row[col_type])\n",
    "    return list_set\n",
    "\n",
    "def get_data(name = ''):\n",
    "    df = \"\"\n",
    "    path = os.getcwd()\n",
    "    direct='data'\n",
    "    file=os.path.join(path,direct, name)\n",
    "    #opencsv=\"\"\n",
    "    try:\n",
    "        opencsv = open(os.path.join(path,direct,name), 'r')\n",
    "        #print(opencsv)#find the race-result-horse file\n",
    "    except:\n",
    "        while opencsv != name:  # if the file cant be found if there is an error\n",
    "            print(\"Could not open \", \"file\")\n",
    "            opencsv = input(\"\\nPlease try to open file again: \")\n",
    "    else:\n",
    "        with open(os.path.join(path,direct,name)) as f:\n",
    "            feature_names = []#f.readline()\n",
    "            #print(feature_names)\n",
    "            reader = csv.reader(f)\n",
    "            for row in reader:\n",
    "                feature_names = row\n",
    "                #print(feature_names)\n",
    "                break\n",
    "            df =  pd.read_csv(open(os.path.join(path,direct,name)), header=None, names = feature_names) #, na_values = ['WV-A' , 'WV'])\n",
    "            df.drop(0, inplace = True)\n",
    "    return df\n",
    "\n",
    "def plot_bar_chart():\n",
    "    df = get_data('training.csv')\n",
    "    \n",
    "    mapping = np.array(list(map(int,df.loc[:,['finishing_position']].values.ravel())))\n",
    "    df.loc[:,['finishing_position']] = mapping.reshape(-1,1)\n",
    "    \n",
    "    features = ['actual_weight' , 'declared_horse_weight' , 'draw' , 'win_odds' , 'jockey_ave_rank'\n",
    "                                  ,'trainer_ave_rank' , 'recent_ave_rank' , 'race_distance']\n",
    "    \n",
    "    X_train_src = df.loc[:, features ]\n",
    "    #print(X_train_src)\n",
    "    \n",
    "    y_train_src = df.loc[:, ['finishing_position'] ]\n",
    "    \n",
    "    X_scaler = StandardScaler()\n",
    "    \n",
    "    X = X_scaler.fit_transform(X_train_src)\n",
    "    \n",
    "    y = X_scaler.fit_transform(y_train_src).astype(int)\n",
    "    \n",
    "    forest = RandomForestClassifier()\n",
    "    \n",
    "    forest.fit(X,y)\n",
    "    \n",
    "    index = np.array(range(7))\n",
    "    \n",
    "    importances = forest.feature_importances_\n",
    "    \n",
    "    index = np.argsort(importances)[::-1]\n",
    "    \n",
    "    features = np.array([features[x] for x in index])\n",
    "    \n",
    "    importances = np.array([importances[x] for x in index])\n",
    "    \n",
    "    print(features , importances)\n",
    "    \n",
    "    plt.bar(np.arange(features.shape[0]), importances, align='center', alpha=0.5)\n",
    "    \n",
    "    plt.xticks(np.arange(features.shape[0]) , features)\n",
    "    \n",
    "    #plt.gca().xaxis.set_major_locator(MaxNLocator(prune='lower'))\n",
    "    \n",
    "    plt.tight_layout()\n",
    "    \n",
    "    plt.gca().margins(x=0)\n",
    "    plt.gcf().canvas.draw()\n",
    "    tl = plt.gca().get_xticklabels()\n",
    "    maxsize = max([t.get_window_extent().width for t in tl])\n",
    "    m = 0.2 # inch margin\n",
    "    s = maxsize/plt.gcf().dpi*features.shape[0]+2*m\n",
    "    margin = m/plt.gcf().get_size_inches()[0]\n",
    "\n",
    "    plt.gcf().subplots_adjust(left=margin, right=1.-margin)\n",
    "    plt.gcf().set_size_inches(s, plt.gcf().get_size_inches()[1])\n",
    "    plt.title('Feature Importances')\n",
    "    plt.show()\n",
    "    \n",
    "    \n",
    "    \n",
    "    \n",
    "\n",
    "if __name__ == '__main__':\n",
    "    \n",
    "    plot_bar_chart()"
   ]
  }
 ],
 "metadata": {
  "kernelspec": {
   "display_name": "Python 3",
   "language": "python",
   "name": "python3"
  },
  "language_info": {
   "codemirror_mode": {
    "name": "ipython",
    "version": 3
   },
   "file_extension": ".py",
   "mimetype": "text/x-python",
   "name": "python",
   "nbconvert_exporter": "python",
   "pygments_lexer": "ipython3",
   "version": "3.6.3"
  }
 },
 "nbformat": 4,
 "nbformat_minor": 2
}
