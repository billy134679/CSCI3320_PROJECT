{
 "cells": [
  {
   "cell_type": "code",
   "execution_count": 5,
   "metadata": {},
   "outputs": [
    {
     "name": "stdout",
     "output_type": "stream",
     "text": [
      "Please input a horse ID and the program will generate a line chartT301\n"
     ]
    },
    {
     "data": {
      "image/png": "[encoded data removed]",
      "text/plain": [
       "<matplotlib.figure.Figure at 0x1d3e6b57710>"
      ]
     },
     "metadata": {},
     "output_type": "display_data"
    }
   ],
   "source": [
    "import os\n",
    "import csv\n",
    "import math\n",
    "import pandas as pd\n",
    "import numpy as np\n",
    "import matplotlib.pyplot as plt\n",
    "\n",
    "def get_data(name = ''):\n",
    "    df = \"\"\n",
    "    path = os.getcwd()\n",
    "    direct='data'\n",
    "    file=os.path.join(path,direct, name)\n",
    "    #opencsv=\"\"\n",
    "    try:\n",
    "        opencsv = open(os.path.join(path,direct,name), 'r')\n",
    "        #print(opencsv)#find the race-result-horse file\n",
    "    except:\n",
    "        while opencsv != name:  # if the file cant be found if there is an error\n",
    "            print(\"Could not open \", \"file\")\n",
    "            opencsv = input(\"\\nPlease try to open file again: \")\n",
    "    else:\n",
    "        with open(os.path.join(path,direct,name)) as f:\n",
    "            feature_names = []#f.readline()\n",
    "            #print(feature_names)\n",
    "            reader = csv.reader(f)\n",
    "            for row in reader:\n",
    "                feature_names = row\n",
    "                #print(feature_names)\n",
    "                break\n",
    "            df =  pd.read_csv(open(os.path.join(path,direct,name)), header=None, names = feature_names) #, na_values = ['WV-A' , 'WV'])\n",
    "            df.drop(0, inplace = True)\n",
    "    return df\n",
    "\n",
    "def plot_line_chart(horse = \"\"):\n",
    "    df = get_data('training.csv')\n",
    "    #df_test = get_data('testing.csv')\n",
    "    #df = df_train.append(df_test , ignore_index = True)\n",
    "    #no_1 = df[df[\"ave_rank\"] == \"1\"]\n",
    "    #print(no_1)\n",
    "    #print(df)\n",
    "    #print(horse)\n",
    "    horse_set = df[df[\"horse_id\"] == horse].reset_index(drop=True)\n",
    "    #print(horse_set)\n",
    "    recent_race_pos = \"\"\n",
    "    recent_race_id = \"\"\n",
    "    \n",
    "    if horse_set.empty :  #check whether the dataset has the input horse id\n",
    "        print(\"No such horse!\\n\")\n",
    "    else:\n",
    "        if horse_set.shape[0] < 6:\n",
    "            recent_race_pos = np.array(list(map(int,horse_set.loc[:,['finishing_position']].values.ravel())))\n",
    "            \n",
    "            recent_race_id =  horse_set.loc[:,['race_id']].values.ravel()\n",
    "            \n",
    "        elif horse_set.shape[0] >= 6:    \n",
    "            recent_race_pos = np.array(\n",
    "                list(map(int,horse_set.loc[horse_set.shape[0]-6 :horse_set.shape[0]-1,['finishing_position']].values.ravel())))\n",
    "            recent_race_id =  horse_set.loc[horse_set.shape[0]-6 :horse_set.shape[0]-1,['race_id']].values.ravel()\n",
    "    #print(recent_race_pos)\n",
    "    #print(recent_race_id)\n",
    "    \n",
    "    plt.plot(recent_race_id, recent_race_pos, color='blue', marker='o' ,\n",
    "        linewidth=2, markersize=10)\n",
    "    plt.xlabel('race_id')\n",
    "    plt.ylabel('finishing_position')\n",
    "    plt.title(\"Finishing_position of recent 6 races of {0}\".format(horse))\n",
    "    plt.show()\n",
    "    \n",
    "\n",
    "\n",
    "if __name__ == '__main__':\n",
    "    horse_name = input(\"Please input a horse ID and the program will generate a line chart\").upper()\n",
    "    #print(horse_name)\n",
    "    plot_line_chart(horse_name)\n",
    "   "
   ]
  }
 ],
 "metadata": {
  "kernelspec": {
   "display_name": "Python 3",
   "language": "python",
   "name": "python3"
  },
  "language_info": {
   "codemirror_mode": {
    "name": "ipython",
    "version": 3
   },
   "file_extension": ".py",
   "mimetype": "text/x-python",
   "name": "python",
   "nbconvert_exporter": "python",
   "pygments_lexer": "ipython3",
   "version": "3.6.3"
  }
 },
 "nbformat": 4,
 "nbformat_minor": 2
}
