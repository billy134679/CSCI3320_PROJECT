{
 "cells": [
  {
   "cell_type": "code",
   "execution_count": null,
   "metadata": {
    "collapsed": true
   },
   "outputs": [],
   "source": [
    "#3.1.2 Naive Bayes\n",
    "import numpy as np\n",
    "import NaiveBayes from naive_bayes\n",
    "\n",
    "df1 = pd.read_csv('data/training.csv',header=None)\n",
    "df2 = pd.read_csv('data/testing.csv',header=None)\n",
    "\n",
    "#X_train = df1.iloc[:,[21,16,22]]\n",
    "#Y_train = df1.iloc[:,[21,16,22]]\n",
    "#X_scaler = StandardScaler()\n",
    "#X_train_scaled = X_scaler.fit_transform(X_train)\n",
    "#Y_train_scaled = X_scaler.fit_transform(Y_train)\n",
    "\n",
    "#X_test = df2.iloc[:,[]]\n",
    "\n",
    "clf = NaiveBayes()\n",
    "clf = clf.fit()\n",
    "y_predict = clf.predict(X)\n"
   ]
  }
 ],
 "metadata": {
  "kernelspec": {
   "display_name": "Python 3",
   "language": "python",
   "name": "python3"
  },
  "language_info": {
   "codemirror_mode": {
    "name": "ipython",
    "version": 3
   },
   "file_extension": ".py",
   "mimetype": "text/x-python",
   "name": "python",
   "nbconvert_exporter": "python",
   "pygments_lexer": "ipython3",
   "version": "3.6.3"
  }
 },
 "nbformat": 4,
 "nbformat_minor": 2
}
