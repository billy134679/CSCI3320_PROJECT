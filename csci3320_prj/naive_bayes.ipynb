{
 "cells": [
  {
   "cell_type": "code",
   "execution_count": 1,
   "metadata": {},
   "outputs": [
    {
     "ename": "SyntaxError",
     "evalue": "invalid syntax (<ipython-input-1-ff21bd0e2cc9>, line 3)",
     "output_type": "error",
     "traceback": [
      "\u001b[1;36m  File \u001b[1;32m\"<ipython-input-1-ff21bd0e2cc9>\"\u001b[1;36m, line \u001b[1;32m3\u001b[0m\n\u001b[1;33m    import NaiveBayes from naive_bayes\u001b[0m\n\u001b[1;37m                         ^\u001b[0m\n\u001b[1;31mSyntaxError\u001b[0m\u001b[1;31m:\u001b[0m invalid syntax\n"
     ]
    }
   ],
   "source": [
    "#3.1.2 Naive Bayes\n",
    "import numpy as np\n",
    "import NaiveBayes from naive_bayes\n",
    "\n",
    "def get_data(name = ''):\n",
    "    df = \"\"\n",
    "    path = os.getcwd()\n",
    "    direct='data'\n",
    "    file=os.path.join(path,direct, name)\n",
    "    #opencsv=\"\"\n",
    "    try:\n",
    "        opencsv = open(os.path.join(path,direct,name), 'r')\n",
    "        print(opencsv)#find the race-result-horse file\n",
    "    except:\n",
    "        while opencsv != name:  # if the file cant be found if there is an error\n",
    "            print(\"Could not open \", \"file\")\n",
    "            opencsv = input(\"\\nPlease try to open file again: \")\n",
    "    else:\n",
    "        with open(os.path.join(path,direct,name)) as f:\n",
    "            feature_names = []#f.readline()\n",
    "            #print(feature_names)\n",
    "            reader = csv.reader(f)\n",
    "            for row in reader:\n",
    "                feature_names = row \n",
    "                #print(feature_names)\n",
    "                break\n",
    "            df =  pd.read_csv(open(os.path.join(path,direct,name)), header=None, names = feature_names) #, na_values = ['WV-A' , 'WV'])\n",
    "            df.drop(0, inplace = True)\n",
    "    return df\n",
    "\n",
    "def process(df = pd.DataFrame({}), a=[]):\n",
    "    for i in range(5864):\n",
    "        if a[i] == 1:\n",
    "            i=i+1\n",
    "            print(\"Hi my frd\")\n",
    "            df.loc[i, 'HorseWin'] = 1\n",
    "            df.loc[i, 'HorseRankTop3'] = 1\n",
    "            df.loc[i, 'HorseRankTop50Percent'] = 1\n",
    "        elif a[i] == 2 or a[i] == 3:\n",
    "            i=i+1\n",
    "            df.loc[i, 'HorseWin'] = 0\n",
    "            df.loc[i, 'HorseRankTop3'] = 1\n",
    "            df.loc[i, 'HorseRankTop50Percent'] = 1\n",
    "        elif a[i] == 4 or a[i] == 5 or a[i] == 6:\n",
    "            i=i+1\n",
    "            df.loc[i, 'HorseWin'] = 0\n",
    "            df.loc[i, 'HorseRankTop3'] = 0\n",
    "            df.loc[i, 'HorseRankTop50Percent'] = 1\n",
    "        else:\n",
    "            i=i+1\n",
    "            df.loc[i, 'HorseWin'] = 0\n",
    "            df.loc[i, 'HorseRankTop3'] = 0\n",
    "            df.loc[i, 'HorseRankTop50Percent'] = 0\n",
    "    return df\n",
    "\n",
    "df1 = get_data('training.csv')\n",
    "df2 = get_data('testing.csv')\n",
    "df1.recent_ave_rank = df1.recent_ave_rank.astype(int)\n",
    "df1[\"HorseWin\"] = \"\"\n",
    "df1[\"HorseRankTop3\"] = \"\"\n",
    "df1[\"HorseRankTop50Percent\"] = \"\"\n",
    "df2[\"HorseWin\"] = \"\"\n",
    "df2[\"HorseRankTop3\"] = \"\"\n",
    "df2[\"HorseRankTop50Percent\"] = \"\"\n",
    "\n",
    "X_train = df1.iloc[:,[24,26]]\n",
    "Y_train = df1.iloc[:,[21]]\n",
    "\n",
    "X_test = df2.iloc[:,[24,26]]\n",
    "\n",
    "clf = NaiveBayes()\n",
    "clf = clf.fit(X_train, np.ravel(Y_train))\n",
    "y_predict = clf.predict(X)\n",
    "df2 = process(df2,y_pre)\n",
    "y_result = df2.iloc[:,[19,4,28,29,30]]\n",
    "print(y_result)\n",
    "\n"
   ]
  },
  {
   "cell_type": "code",
   "execution_count": null,
   "metadata": {
    "collapsed": true
   },
   "outputs": [],
   "source": []
  }
 ],
 "metadata": {
  "kernelspec": {
   "display_name": "Python 3",
   "language": "python",
   "name": "python3"
  },
  "language_info": {
   "codemirror_mode": {
    "name": "ipython",
    "version": 3
   },
   "file_extension": ".py",
   "mimetype": "text/x-python",
   "name": "python",
   "nbconvert_exporter": "python",
   "pygments_lexer": "ipython3",
   "version": "3.6.3"
  }
 },
 "nbformat": 4,
 "nbformat_minor": 2
}
